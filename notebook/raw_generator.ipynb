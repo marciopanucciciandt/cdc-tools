{
 "cells": [
  {
   "cell_type": "markdown",
   "id": "81c44e91-e25b-4ab3-9930-758ebb83a516",
   "metadata": {},
   "source": [
    "# Generate a Raw Data"
   ]
  },
  {
   "cell_type": "markdown",
   "id": "9b4025ba-e51b-488c-8ace-a0fe9a990385",
   "metadata": {},
   "source": [
    "## Import Libraries"
   ]
  },
  {
   "cell_type": "code",
   "execution_count": 2,
   "id": "e0964212-0d98-42c2-b3e5-52430dd4d7ff",
   "metadata": {
    "tags": []
   },
   "outputs": [],
   "source": [
    "import os\n",
    "import sys\n",
    "import json\n",
    "import random\n",
    "from datetime import datetime, timedelta\n",
    "from pyspark.sql import SparkSession, DataFrame, functions as F"
   ]
  },
  {
   "cell_type": "markdown",
   "id": "74fbb6a7-e124-4129-a68b-1bb5a37d2cfa",
   "metadata": {},
   "source": [
    "## Create a Spark Session"
   ]
  },
  {
   "cell_type": "code",
   "execution_count": 6,
   "id": "575acb8f-5989-4cb5-83bc-389314734200",
   "metadata": {
    "tags": []
   },
   "outputs": [],
   "source": [
    "spark = SparkSession.builder.appName(\"Delta-App\").getOrCreate()\n",
    "WORK_DIR = f'{os.getenv(\"HOME\")}/work'"
   ]
  },
  {
   "cell_type": "markdown",
   "id": "fd224b85-f555-4a2e-86d9-04906de3ae2e",
   "metadata": {},
   "source": [
    "## Create a Functions"
   ]
  },
  {
   "cell_type": "code",
   "execution_count": 8,
   "id": "e7c5cf7b-9c09-4c09-a2ff-d76cdff34f8d",
   "metadata": {},
   "outputs": [],
   "source": [
    "def row_data(\n",
    "    delta_create: int, delta_update: int, qtt: int, list_options: list\n",
    ") -> dict:\n",
    "    date_now = datetime.now()\n",
    "    create = date_now + timedelta(days=delta_create)\n",
    "    update = date_now + timedelta(days=delta_update)\n",
    "    format_date = \"%Y/%m/%d\"\n",
    "    return {\n",
    "        \"created\": create.strftime(format_date),\n",
    "        \"updated\": update.strftime(format_date),\n",
    "        \"id\": random.randrange(qtt),\n",
    "        \"value\": random.choice(list_options),\n",
    "    }\n",
    "\n",
    "\n",
    "def generate_data(\n",
    "    delta_create: int, delta_update: int, qtt: int, list_options: list\n",
    ") -> DataFrame:\n",
    "    list_data = []\n",
    "    for val in range(qtt):\n",
    "        list_data.append(row_data(delta_create, delta_update, qtt, list_options))\n",
    "    data = spark.sparkContext.parallelize(list_data, 10)\n",
    "    return spark.read.json(data).drop_duplicates([\"id\"])\n",
    "\n",
    "\n",
    "def create_cols_partition_YMD(df: DataFrame, col_name: str) -> DataFrame:\n",
    "    return (\n",
    "        df.withColumn(\"year\", F.split(F.col(col_name), \"/\").getItem(0))\n",
    "        .withColumn(\"month\", F.split(F.col(col_name), \"/\").getItem(1))\n",
    "        .withColumn(\"day\", F.split(F.col(col_name), \"/\").getItem(2))\n",
    "    )\n",
    "\n",
    "def gen_raw_zone(\n",
    "    delta_create: int,\n",
    "    delta_update: int,\n",
    "    qtt: int,\n",
    "    range_generate: int,\n",
    "    list_options: list,\n",
    "    local_output: str,\n",
    "    col_partition: str = \"updated\",\n",
    ") -> None:\n",
    "    for val in range(range_generate):\n",
    "        df = generate_data(delta_create, delta_update+val, qtt, list_options)\n",
    "        df = create_cols_partition_YMD(df, col_partition)\n",
    "        df.write.partitionBy(\"year\", \"month\", \"day\").mode(\"append\").parquet(\n",
    "            f\"{local_output}/data\"\n",
    "        )"
   ]
  },
  {
   "cell_type": "markdown",
   "id": "6e05cb72-5797-42ec-90b4-7f71a9a64d38",
   "metadata": {},
   "source": [
    "## Create a Fake Raw Data"
   ]
  },
  {
   "cell_type": "code",
   "execution_count": 9,
   "id": "769beac1-ee53-4379-bcaa-c9865be7deaf",
   "metadata": {},
   "outputs": [],
   "source": [
    "list_fruits = ['banana', 'maça', 'morango', 'abacaxi', 'limão']\n",
    "output = f'{WORK_DIR}/datalake/raw'\n",
    "size = 5000"
   ]
  },
  {
   "cell_type": "code",
   "execution_count": 10,
   "id": "f7811d3a-0f71-437b-9daf-a8d9b0729a58",
   "metadata": {},
   "outputs": [],
   "source": [
    "gen_raw_zone(0,1,size,10,list_fruits,output)"
   ]
  }
 ],
 "metadata": {
  "kernelspec": {
   "display_name": "Python 3 (ipykernel)",
   "language": "python",
   "name": "python3"
  },
  "language_info": {
   "codemirror_mode": {
    "name": "ipython",
    "version": 3
   },
   "file_extension": ".py",
   "mimetype": "text/x-python",
   "name": "python",
   "nbconvert_exporter": "python",
   "pygments_lexer": "ipython3",
   "version": "3.10.8"
  }
 },
 "nbformat": 4,
 "nbformat_minor": 5
}
