{
 "cells": [
  {
   "cell_type": "code",
   "execution_count": 23,
   "id": "d0ed9c1c-a8a9-47c0-ac8e-7330c81e9fa1",
   "metadata": {
    "tags": []
   },
   "outputs": [],
   "source": [
    "import os\n",
    "from pyspark.sql import SparkSession, DataFrame, functions as F, types as T"
   ]
  },
  {
   "cell_type": "code",
   "execution_count": 24,
   "id": "4bd6fa42-6aa4-4917-b761-f4843425a1b4",
   "metadata": {
    "tags": []
   },
   "outputs": [],
   "source": [
    "WORK_DIR = f'{os.getenv(\"HOME\")}/work'\n",
    "\n",
    "spark = (SparkSession.builder.appName(\"Iceberg\")\n",
    "         .config(\"spark.jars.packages\", \"org.apache.iceberg:iceberg-spark-runtime-3.2_2.12:1.1.0\")\n",
    "         .config(\"spark.sql.extensions\", \"org.apache.iceberg.spark.extensions.IcebergSparkSessionExtensions\")\n",
    "         .config(\"spark.sql.catalog.spark_catalog\", \"org.apache.iceberg.spark.SparkSessionCatalog\")\n",
    "         .config(\"spark.sql.catalog.spark_catalog.type\", \"hive\")\n",
    "         .config(\"spark.sql.catalog.demo\", \"org.apache.iceberg.spark.SparkCatalog\")\n",
    "         .config(\"spark.sql.catalog.demo.type\", \"hadoop\")\n",
    "         .config(\"spark.sql.catalog.demo.warehouse\", f\"{WORK_DIR}/datalake/trusted/iceberg/warehouse\")\n",
    "         .config(\"spark.sql.defaultCatalog\", \"demo\")\n",
    "         .getOrCreate()\n",
    "        )"
   ]
  },
  {
   "cell_type": "markdown",
   "id": "d8397028-dafb-4efc-98b7-cc6282861e0a",
   "metadata": {},
   "source": [
    "## First Time"
   ]
  },
  {
   "cell_type": "markdown",
   "id": "f2c49788-3ced-4734-850f-f29f1b1c9cf5",
   "metadata": {},
   "source": [
    "### Read a Raw Data"
   ]
  },
  {
   "cell_type": "code",
   "execution_count": 6,
   "id": "62e00fcc-0c4c-48d2-bcff-01e1a7e3d315",
   "metadata": {
    "tags": []
   },
   "outputs": [],
   "source": [
    "datalake = f'{WORK_DIR}/datalake'\n",
    "raw = f'{datalake}/raw'\n",
    "trusted = f'{datalake}/trusted'"
   ]
  },
  {
   "cell_type": "code",
   "execution_count": 7,
   "id": "a90c78dc-119d-43ab-a002-949b0abf7865",
   "metadata": {
    "tags": []
   },
   "outputs": [],
   "source": [
    "df = spark.read.parquet(f'{raw}/data').where('year = 2023 and month = 02 and day = 04')"
   ]
  },
  {
   "cell_type": "code",
   "execution_count": 8,
   "id": "8f8c8217-39d3-4c99-9700-797868e9e68a",
   "metadata": {
    "tags": []
   },
   "outputs": [
    {
     "data": {
      "text/html": [
       "<div>\n",
       "<style scoped>\n",
       "    .dataframe tbody tr th:only-of-type {\n",
       "        vertical-align: middle;\n",
       "    }\n",
       "\n",
       "    .dataframe tbody tr th {\n",
       "        vertical-align: top;\n",
       "    }\n",
       "\n",
       "    .dataframe thead th {\n",
       "        text-align: right;\n",
       "    }\n",
       "</style>\n",
       "<table border=\"1\" class=\"dataframe\">\n",
       "  <thead>\n",
       "    <tr style=\"text-align: right;\">\n",
       "      <th></th>\n",
       "      <th>created</th>\n",
       "      <th>id</th>\n",
       "      <th>updated</th>\n",
       "      <th>value</th>\n",
       "      <th>year</th>\n",
       "      <th>month</th>\n",
       "      <th>day</th>\n",
       "    </tr>\n",
       "  </thead>\n",
       "  <tbody>\n",
       "    <tr>\n",
       "      <th>0</th>\n",
       "      <td>2023/02/03</td>\n",
       "      <td>0</td>\n",
       "      <td>2023/02/04</td>\n",
       "      <td>morango</td>\n",
       "      <td>2023</td>\n",
       "      <td>2</td>\n",
       "      <td>4</td>\n",
       "    </tr>\n",
       "    <tr>\n",
       "      <th>1</th>\n",
       "      <td>2023/02/03</td>\n",
       "      <td>2</td>\n",
       "      <td>2023/02/04</td>\n",
       "      <td>morango</td>\n",
       "      <td>2023</td>\n",
       "      <td>2</td>\n",
       "      <td>4</td>\n",
       "    </tr>\n",
       "    <tr>\n",
       "      <th>2</th>\n",
       "      <td>2023/02/03</td>\n",
       "      <td>3</td>\n",
       "      <td>2023/02/04</td>\n",
       "      <td>limão</td>\n",
       "      <td>2023</td>\n",
       "      <td>2</td>\n",
       "      <td>4</td>\n",
       "    </tr>\n",
       "    <tr>\n",
       "      <th>3</th>\n",
       "      <td>2023/02/03</td>\n",
       "      <td>4</td>\n",
       "      <td>2023/02/04</td>\n",
       "      <td>banana</td>\n",
       "      <td>2023</td>\n",
       "      <td>2</td>\n",
       "      <td>4</td>\n",
       "    </tr>\n",
       "    <tr>\n",
       "      <th>4</th>\n",
       "      <td>2023/02/03</td>\n",
       "      <td>5</td>\n",
       "      <td>2023/02/04</td>\n",
       "      <td>morango</td>\n",
       "      <td>2023</td>\n",
       "      <td>2</td>\n",
       "      <td>4</td>\n",
       "    </tr>\n",
       "    <tr>\n",
       "      <th>...</th>\n",
       "      <td>...</td>\n",
       "      <td>...</td>\n",
       "      <td>...</td>\n",
       "      <td>...</td>\n",
       "      <td>...</td>\n",
       "      <td>...</td>\n",
       "      <td>...</td>\n",
       "    </tr>\n",
       "    <tr>\n",
       "      <th>3148</th>\n",
       "      <td>2023/02/03</td>\n",
       "      <td>4990</td>\n",
       "      <td>2023/02/04</td>\n",
       "      <td>abacaxi</td>\n",
       "      <td>2023</td>\n",
       "      <td>2</td>\n",
       "      <td>4</td>\n",
       "    </tr>\n",
       "    <tr>\n",
       "      <th>3149</th>\n",
       "      <td>2023/02/03</td>\n",
       "      <td>4991</td>\n",
       "      <td>2023/02/04</td>\n",
       "      <td>maça</td>\n",
       "      <td>2023</td>\n",
       "      <td>2</td>\n",
       "      <td>4</td>\n",
       "    </tr>\n",
       "    <tr>\n",
       "      <th>3150</th>\n",
       "      <td>2023/02/03</td>\n",
       "      <td>4992</td>\n",
       "      <td>2023/02/04</td>\n",
       "      <td>banana</td>\n",
       "      <td>2023</td>\n",
       "      <td>2</td>\n",
       "      <td>4</td>\n",
       "    </tr>\n",
       "    <tr>\n",
       "      <th>3151</th>\n",
       "      <td>2023/02/03</td>\n",
       "      <td>4993</td>\n",
       "      <td>2023/02/04</td>\n",
       "      <td>limão</td>\n",
       "      <td>2023</td>\n",
       "      <td>2</td>\n",
       "      <td>4</td>\n",
       "    </tr>\n",
       "    <tr>\n",
       "      <th>3152</th>\n",
       "      <td>2023/02/03</td>\n",
       "      <td>4995</td>\n",
       "      <td>2023/02/04</td>\n",
       "      <td>maça</td>\n",
       "      <td>2023</td>\n",
       "      <td>2</td>\n",
       "      <td>4</td>\n",
       "    </tr>\n",
       "  </tbody>\n",
       "</table>\n",
       "<p>3153 rows × 7 columns</p>\n",
       "</div>"
      ],
      "text/plain": [
       "         created    id     updated    value  year  month  day\n",
       "0     2023/02/03     0  2023/02/04  morango  2023      2    4\n",
       "1     2023/02/03     2  2023/02/04  morango  2023      2    4\n",
       "2     2023/02/03     3  2023/02/04    limão  2023      2    4\n",
       "3     2023/02/03     4  2023/02/04   banana  2023      2    4\n",
       "4     2023/02/03     5  2023/02/04  morango  2023      2    4\n",
       "...          ...   ...         ...      ...   ...    ...  ...\n",
       "3148  2023/02/03  4990  2023/02/04  abacaxi  2023      2    4\n",
       "3149  2023/02/03  4991  2023/02/04     maça  2023      2    4\n",
       "3150  2023/02/03  4992  2023/02/04   banana  2023      2    4\n",
       "3151  2023/02/03  4993  2023/02/04    limão  2023      2    4\n",
       "3152  2023/02/03  4995  2023/02/04     maça  2023      2    4\n",
       "\n",
       "[3153 rows x 7 columns]"
      ]
     },
     "execution_count": 8,
     "metadata": {},
     "output_type": "execute_result"
    }
   ],
   "source": [
    "df.toPandas()"
   ]
  },
  {
   "cell_type": "markdown",
   "id": "09a37d18-d7c2-43de-98ff-416a5b8696b8",
   "metadata": {},
   "source": [
    "### Write"
   ]
  },
  {
   "cell_type": "code",
   "execution_count": 9,
   "id": "fcd0fc8a-c446-4190-bf40-1c1e14e21534",
   "metadata": {
    "tags": []
   },
   "outputs": [],
   "source": [
    "df.writeTo(\"demo.iceberg.fruit\").create()"
   ]
  },
  {
   "cell_type": "markdown",
   "id": "84548493-7ad1-4f24-bbec-b5549479acba",
   "metadata": {},
   "source": [
    "## Upsert "
   ]
  },
  {
   "cell_type": "code",
   "execution_count": 10,
   "id": "f0390a55-300d-450c-88cf-9b6eadef7124",
   "metadata": {
    "tags": []
   },
   "outputs": [],
   "source": [
    "df = spark.read.parquet(f\"{raw}/data\").where(\"year = 2023 and month = 02 and day = 05\")"
   ]
  },
  {
   "cell_type": "code",
   "execution_count": 11,
   "id": "c0987a89-e07b-4299-845e-7da00da20d1e",
   "metadata": {
    "tags": []
   },
   "outputs": [
    {
     "data": {
      "text/html": [
       "<div>\n",
       "<style scoped>\n",
       "    .dataframe tbody tr th:only-of-type {\n",
       "        vertical-align: middle;\n",
       "    }\n",
       "\n",
       "    .dataframe tbody tr th {\n",
       "        vertical-align: top;\n",
       "    }\n",
       "\n",
       "    .dataframe thead th {\n",
       "        text-align: right;\n",
       "    }\n",
       "</style>\n",
       "<table border=\"1\" class=\"dataframe\">\n",
       "  <thead>\n",
       "    <tr style=\"text-align: right;\">\n",
       "      <th></th>\n",
       "      <th>created</th>\n",
       "      <th>id</th>\n",
       "      <th>updated</th>\n",
       "      <th>value</th>\n",
       "      <th>year</th>\n",
       "      <th>month</th>\n",
       "      <th>day</th>\n",
       "    </tr>\n",
       "  </thead>\n",
       "  <tbody>\n",
       "    <tr>\n",
       "      <th>0</th>\n",
       "      <td>2023/02/03</td>\n",
       "      <td>0</td>\n",
       "      <td>2023/02/05</td>\n",
       "      <td>banana</td>\n",
       "      <td>2023</td>\n",
       "      <td>2</td>\n",
       "      <td>5</td>\n",
       "    </tr>\n",
       "    <tr>\n",
       "      <th>1</th>\n",
       "      <td>2023/02/03</td>\n",
       "      <td>1</td>\n",
       "      <td>2023/02/05</td>\n",
       "      <td>morango</td>\n",
       "      <td>2023</td>\n",
       "      <td>2</td>\n",
       "      <td>5</td>\n",
       "    </tr>\n",
       "    <tr>\n",
       "      <th>2</th>\n",
       "      <td>2023/02/03</td>\n",
       "      <td>8</td>\n",
       "      <td>2023/02/05</td>\n",
       "      <td>limão</td>\n",
       "      <td>2023</td>\n",
       "      <td>2</td>\n",
       "      <td>5</td>\n",
       "    </tr>\n",
       "    <tr>\n",
       "      <th>3</th>\n",
       "      <td>2023/02/03</td>\n",
       "      <td>9</td>\n",
       "      <td>2023/02/05</td>\n",
       "      <td>maça</td>\n",
       "      <td>2023</td>\n",
       "      <td>2</td>\n",
       "      <td>5</td>\n",
       "    </tr>\n",
       "    <tr>\n",
       "      <th>4</th>\n",
       "      <td>2023/02/03</td>\n",
       "      <td>10</td>\n",
       "      <td>2023/02/05</td>\n",
       "      <td>maça</td>\n",
       "      <td>2023</td>\n",
       "      <td>2</td>\n",
       "      <td>5</td>\n",
       "    </tr>\n",
       "    <tr>\n",
       "      <th>...</th>\n",
       "      <td>...</td>\n",
       "      <td>...</td>\n",
       "      <td>...</td>\n",
       "      <td>...</td>\n",
       "      <td>...</td>\n",
       "      <td>...</td>\n",
       "      <td>...</td>\n",
       "    </tr>\n",
       "    <tr>\n",
       "      <th>3185</th>\n",
       "      <td>2023/02/03</td>\n",
       "      <td>4994</td>\n",
       "      <td>2023/02/05</td>\n",
       "      <td>abacaxi</td>\n",
       "      <td>2023</td>\n",
       "      <td>2</td>\n",
       "      <td>5</td>\n",
       "    </tr>\n",
       "    <tr>\n",
       "      <th>3186</th>\n",
       "      <td>2023/02/03</td>\n",
       "      <td>4996</td>\n",
       "      <td>2023/02/05</td>\n",
       "      <td>maça</td>\n",
       "      <td>2023</td>\n",
       "      <td>2</td>\n",
       "      <td>5</td>\n",
       "    </tr>\n",
       "    <tr>\n",
       "      <th>3187</th>\n",
       "      <td>2023/02/03</td>\n",
       "      <td>4997</td>\n",
       "      <td>2023/02/05</td>\n",
       "      <td>banana</td>\n",
       "      <td>2023</td>\n",
       "      <td>2</td>\n",
       "      <td>5</td>\n",
       "    </tr>\n",
       "    <tr>\n",
       "      <th>3188</th>\n",
       "      <td>2023/02/03</td>\n",
       "      <td>4998</td>\n",
       "      <td>2023/02/05</td>\n",
       "      <td>morango</td>\n",
       "      <td>2023</td>\n",
       "      <td>2</td>\n",
       "      <td>5</td>\n",
       "    </tr>\n",
       "    <tr>\n",
       "      <th>3189</th>\n",
       "      <td>2023/02/03</td>\n",
       "      <td>4999</td>\n",
       "      <td>2023/02/05</td>\n",
       "      <td>banana</td>\n",
       "      <td>2023</td>\n",
       "      <td>2</td>\n",
       "      <td>5</td>\n",
       "    </tr>\n",
       "  </tbody>\n",
       "</table>\n",
       "<p>3190 rows × 7 columns</p>\n",
       "</div>"
      ],
      "text/plain": [
       "         created    id     updated    value  year  month  day\n",
       "0     2023/02/03     0  2023/02/05   banana  2023      2    5\n",
       "1     2023/02/03     1  2023/02/05  morango  2023      2    5\n",
       "2     2023/02/03     8  2023/02/05    limão  2023      2    5\n",
       "3     2023/02/03     9  2023/02/05     maça  2023      2    5\n",
       "4     2023/02/03    10  2023/02/05     maça  2023      2    5\n",
       "...          ...   ...         ...      ...   ...    ...  ...\n",
       "3185  2023/02/03  4994  2023/02/05  abacaxi  2023      2    5\n",
       "3186  2023/02/03  4996  2023/02/05     maça  2023      2    5\n",
       "3187  2023/02/03  4997  2023/02/05   banana  2023      2    5\n",
       "3188  2023/02/03  4998  2023/02/05  morango  2023      2    5\n",
       "3189  2023/02/03  4999  2023/02/05   banana  2023      2    5\n",
       "\n",
       "[3190 rows x 7 columns]"
      ]
     },
     "execution_count": 11,
     "metadata": {},
     "output_type": "execute_result"
    }
   ],
   "source": [
    "df.toPandas()"
   ]
  },
  {
   "cell_type": "code",
   "execution_count": 36,
   "id": "59c5cc97-25af-468e-bd50-e3e6a7796e50",
   "metadata": {
    "tags": []
   },
   "outputs": [],
   "source": [
    "df.createOrReplaceTempView('fruit_temp')"
   ]
  },
  {
   "cell_type": "code",
   "execution_count": 41,
   "id": "c12d5a04-f320-4dfc-ab8a-d3573720bcf2",
   "metadata": {
    "tags": []
   },
   "outputs": [],
   "source": [
    "script_sql = \"\"\"\n",
    "MERGE INTO demo.iceberg.fruit t USING (SELECT * FROM fruit_temp) u ON t.id = u.id\n",
    "WHEN NOT MATCHED THEN INSERT *\n",
    "\"\"\""
   ]
  },
  {
   "cell_type": "code",
   "execution_count": 42,
   "id": "de9b77f8-26d8-4ebb-aeda-2b980b7378da",
   "metadata": {
    "tags": []
   },
   "outputs": [
    {
     "data": {
      "text/plain": [
       "DataFrame[]"
      ]
     },
     "execution_count": 42,
     "metadata": {},
     "output_type": "execute_result"
    }
   ],
   "source": [
    "spark.sql(script_sql)"
   ]
  },
  {
   "cell_type": "code",
   "execution_count": 52,
   "id": "17830ee0-4dbd-47a9-92d4-20ecb86de805",
   "metadata": {
    "tags": []
   },
   "outputs": [],
   "source": [
    "df_destination = spark.sql('select * from demo.iceberg.fruit')"
   ]
  },
  {
   "cell_type": "code",
   "execution_count": 53,
   "id": "c6bc6483-d850-4d75-b357-a98aad6bef23",
   "metadata": {
    "tags": []
   },
   "outputs": [
    {
     "data": {
      "text/html": [
       "<div>\n",
       "<style scoped>\n",
       "    .dataframe tbody tr th:only-of-type {\n",
       "        vertical-align: middle;\n",
       "    }\n",
       "\n",
       "    .dataframe tbody tr th {\n",
       "        vertical-align: top;\n",
       "    }\n",
       "\n",
       "    .dataframe thead th {\n",
       "        text-align: right;\n",
       "    }\n",
       "</style>\n",
       "<table border=\"1\" class=\"dataframe\">\n",
       "  <thead>\n",
       "    <tr style=\"text-align: right;\">\n",
       "      <th></th>\n",
       "      <th>created</th>\n",
       "      <th>id</th>\n",
       "      <th>updated</th>\n",
       "      <th>value</th>\n",
       "      <th>year</th>\n",
       "      <th>month</th>\n",
       "      <th>day</th>\n",
       "    </tr>\n",
       "  </thead>\n",
       "  <tbody>\n",
       "    <tr>\n",
       "      <th>0</th>\n",
       "      <td>2023/02/03</td>\n",
       "      <td>0</td>\n",
       "      <td>2023/02/04</td>\n",
       "      <td>morango</td>\n",
       "      <td>2023</td>\n",
       "      <td>2</td>\n",
       "      <td>4</td>\n",
       "    </tr>\n",
       "    <tr>\n",
       "      <th>1</th>\n",
       "      <td>2023/02/03</td>\n",
       "      <td>2</td>\n",
       "      <td>2023/02/04</td>\n",
       "      <td>morango</td>\n",
       "      <td>2023</td>\n",
       "      <td>2</td>\n",
       "      <td>4</td>\n",
       "    </tr>\n",
       "    <tr>\n",
       "      <th>2</th>\n",
       "      <td>2023/02/03</td>\n",
       "      <td>3</td>\n",
       "      <td>2023/02/04</td>\n",
       "      <td>limão</td>\n",
       "      <td>2023</td>\n",
       "      <td>2</td>\n",
       "      <td>4</td>\n",
       "    </tr>\n",
       "    <tr>\n",
       "      <th>3</th>\n",
       "      <td>2023/02/03</td>\n",
       "      <td>4</td>\n",
       "      <td>2023/02/04</td>\n",
       "      <td>banana</td>\n",
       "      <td>2023</td>\n",
       "      <td>2</td>\n",
       "      <td>4</td>\n",
       "    </tr>\n",
       "    <tr>\n",
       "      <th>4</th>\n",
       "      <td>2023/02/03</td>\n",
       "      <td>5</td>\n",
       "      <td>2023/02/04</td>\n",
       "      <td>morango</td>\n",
       "      <td>2023</td>\n",
       "      <td>2</td>\n",
       "      <td>4</td>\n",
       "    </tr>\n",
       "    <tr>\n",
       "      <th>...</th>\n",
       "      <td>...</td>\n",
       "      <td>...</td>\n",
       "      <td>...</td>\n",
       "      <td>...</td>\n",
       "      <td>...</td>\n",
       "      <td>...</td>\n",
       "      <td>...</td>\n",
       "    </tr>\n",
       "    <tr>\n",
       "      <th>4308</th>\n",
       "      <td>2023/02/03</td>\n",
       "      <td>4994</td>\n",
       "      <td>2023/02/05</td>\n",
       "      <td>abacaxi</td>\n",
       "      <td>2023</td>\n",
       "      <td>2</td>\n",
       "      <td>5</td>\n",
       "    </tr>\n",
       "    <tr>\n",
       "      <th>4309</th>\n",
       "      <td>2023/02/03</td>\n",
       "      <td>4996</td>\n",
       "      <td>2023/02/05</td>\n",
       "      <td>maça</td>\n",
       "      <td>2023</td>\n",
       "      <td>2</td>\n",
       "      <td>5</td>\n",
       "    </tr>\n",
       "    <tr>\n",
       "      <th>4310</th>\n",
       "      <td>2023/02/03</td>\n",
       "      <td>4997</td>\n",
       "      <td>2023/02/05</td>\n",
       "      <td>banana</td>\n",
       "      <td>2023</td>\n",
       "      <td>2</td>\n",
       "      <td>5</td>\n",
       "    </tr>\n",
       "    <tr>\n",
       "      <th>4311</th>\n",
       "      <td>2023/02/03</td>\n",
       "      <td>4998</td>\n",
       "      <td>2023/02/05</td>\n",
       "      <td>morango</td>\n",
       "      <td>2023</td>\n",
       "      <td>2</td>\n",
       "      <td>5</td>\n",
       "    </tr>\n",
       "    <tr>\n",
       "      <th>4312</th>\n",
       "      <td>2023/02/03</td>\n",
       "      <td>4999</td>\n",
       "      <td>2023/02/05</td>\n",
       "      <td>banana</td>\n",
       "      <td>2023</td>\n",
       "      <td>2</td>\n",
       "      <td>5</td>\n",
       "    </tr>\n",
       "  </tbody>\n",
       "</table>\n",
       "<p>4313 rows × 7 columns</p>\n",
       "</div>"
      ],
      "text/plain": [
       "         created    id     updated    value  year  month  day\n",
       "0     2023/02/03     0  2023/02/04  morango  2023      2    4\n",
       "1     2023/02/03     2  2023/02/04  morango  2023      2    4\n",
       "2     2023/02/03     3  2023/02/04    limão  2023      2    4\n",
       "3     2023/02/03     4  2023/02/04   banana  2023      2    4\n",
       "4     2023/02/03     5  2023/02/04  morango  2023      2    4\n",
       "...          ...   ...         ...      ...   ...    ...  ...\n",
       "4308  2023/02/03  4994  2023/02/05  abacaxi  2023      2    5\n",
       "4309  2023/02/03  4996  2023/02/05     maça  2023      2    5\n",
       "4310  2023/02/03  4997  2023/02/05   banana  2023      2    5\n",
       "4311  2023/02/03  4998  2023/02/05  morango  2023      2    5\n",
       "4312  2023/02/03  4999  2023/02/05   banana  2023      2    5\n",
       "\n",
       "[4313 rows x 7 columns]"
      ]
     },
     "execution_count": 53,
     "metadata": {},
     "output_type": "execute_result"
    }
   ],
   "source": [
    "df_destination.toPandas()"
   ]
  },
  {
   "cell_type": "markdown",
   "id": "958f5e65-ff21-41df-9632-843b3c130b8f",
   "metadata": {},
   "source": [
    "## Comparing Results"
   ]
  },
  {
   "cell_type": "code",
   "execution_count": 54,
   "id": "370235c2-89b0-4d68-ac10-d308fa2b69c5",
   "metadata": {
    "tags": []
   },
   "outputs": [
    {
     "data": {
      "text/html": [
       "<div>\n",
       "<style scoped>\n",
       "    .dataframe tbody tr th:only-of-type {\n",
       "        vertical-align: middle;\n",
       "    }\n",
       "\n",
       "    .dataframe tbody tr th {\n",
       "        vertical-align: top;\n",
       "    }\n",
       "\n",
       "    .dataframe thead th {\n",
       "        text-align: right;\n",
       "    }\n",
       "</style>\n",
       "<table border=\"1\" class=\"dataframe\">\n",
       "  <thead>\n",
       "    <tr style=\"text-align: right;\">\n",
       "      <th></th>\n",
       "      <th>updated</th>\n",
       "      <th>count</th>\n",
       "    </tr>\n",
       "  </thead>\n",
       "  <tbody>\n",
       "    <tr>\n",
       "      <th>0</th>\n",
       "      <td>2023/02/04</td>\n",
       "      <td>3153</td>\n",
       "    </tr>\n",
       "    <tr>\n",
       "      <th>1</th>\n",
       "      <td>2023/02/05</td>\n",
       "      <td>1160</td>\n",
       "    </tr>\n",
       "  </tbody>\n",
       "</table>\n",
       "</div>"
      ],
      "text/plain": [
       "      updated  count\n",
       "0  2023/02/04   3153\n",
       "1  2023/02/05   1160"
      ]
     },
     "execution_count": 54,
     "metadata": {},
     "output_type": "execute_result"
    }
   ],
   "source": [
    "df_destination.groupby('updated').count().toPandas()"
   ]
  },
  {
   "cell_type": "markdown",
   "id": "b337378b-a7bf-4159-be75-fa2d2033cb0b",
   "metadata": {},
   "source": [
    "## Incremental Data"
   ]
  },
  {
   "cell_type": "code",
   "execution_count": 55,
   "id": "ebd5be19-8abe-4e2b-a64f-e29cc0601eea",
   "metadata": {
    "tags": []
   },
   "outputs": [],
   "source": [
    "dfsnap = spark.sql('select * from demo.iceberg.fruit.snapshots')"
   ]
  },
  {
   "cell_type": "code",
   "execution_count": 58,
   "id": "66e85aa6-0c2b-47ed-941b-3ef9c7e8e4c4",
   "metadata": {
    "tags": []
   },
   "outputs": [
    {
     "name": "stdout",
     "output_type": "stream",
     "text": [
      "+--------------------+-------------------+-------------------+---------+--------------------+--------------------+\n",
      "|        committed_at|        snapshot_id|          parent_id|operation|       manifest_list|             summary|\n",
      "+--------------------+-------------------+-------------------+---------+--------------------+--------------------+\n",
      "|2023-02-07 12:51:...|9189953912558619203|               null|   append|/home/jovyan/work...|{spark.app.id -> ...|\n",
      "|2023-02-07 13:57:...|8833439022224482470|9189953912558619203|   append|/home/jovyan/work...|{spark.app.id -> ...|\n",
      "|2023-02-07 13:58:...|3492994344799829888|8833439022224482470|   append|/home/jovyan/work...|{spark.app.id -> ...|\n",
      "|2023-02-07 13:59:...|5263910916207477539|3492994344799829888|   append|/home/jovyan/work...|{spark.app.id -> ...|\n",
      "+--------------------+-------------------+-------------------+---------+--------------------+--------------------+\n",
      "\n"
     ]
    }
   ],
   "source": [
    "dfsnap.show()"
   ]
  },
  {
   "cell_type": "code",
   "execution_count": 59,
   "id": "de8daf54-c48b-48a4-aadc-c74771965c92",
   "metadata": {
    "tags": []
   },
   "outputs": [],
   "source": [
    "version = dfsnap.select(F.max(F.col('snapshot_id'))).collect()[0][0]"
   ]
  },
  {
   "cell_type": "code",
   "execution_count": 60,
   "id": "f46df031-e273-40cd-b964-34477fc90dc6",
   "metadata": {
    "tags": []
   },
   "outputs": [],
   "source": [
    "df_incremental = spark.read.format(\"iceberg\").option(\"start-snapshot-id\", version).load(\"demo.iceberg.fruit\")"
   ]
  },
  {
   "cell_type": "code",
   "execution_count": 61,
   "id": "747cb9d4-a06e-4895-9bbc-b45382850373",
   "metadata": {
    "tags": []
   },
   "outputs": [
    {
     "data": {
      "text/html": [
       "<div>\n",
       "<style scoped>\n",
       "    .dataframe tbody tr th:only-of-type {\n",
       "        vertical-align: middle;\n",
       "    }\n",
       "\n",
       "    .dataframe tbody tr th {\n",
       "        vertical-align: top;\n",
       "    }\n",
       "\n",
       "    .dataframe thead th {\n",
       "        text-align: right;\n",
       "    }\n",
       "</style>\n",
       "<table border=\"1\" class=\"dataframe\">\n",
       "  <thead>\n",
       "    <tr style=\"text-align: right;\">\n",
       "      <th></th>\n",
       "      <th>created</th>\n",
       "      <th>id</th>\n",
       "      <th>updated</th>\n",
       "      <th>value</th>\n",
       "      <th>year</th>\n",
       "      <th>month</th>\n",
       "      <th>day</th>\n",
       "    </tr>\n",
       "  </thead>\n",
       "  <tbody>\n",
       "    <tr>\n",
       "      <th>0</th>\n",
       "      <td>2023/02/03</td>\n",
       "      <td>1</td>\n",
       "      <td>2023/02/05</td>\n",
       "      <td>morango</td>\n",
       "      <td>2023</td>\n",
       "      <td>2</td>\n",
       "      <td>5</td>\n",
       "    </tr>\n",
       "    <tr>\n",
       "      <th>1</th>\n",
       "      <td>2023/02/03</td>\n",
       "      <td>10</td>\n",
       "      <td>2023/02/05</td>\n",
       "      <td>maça</td>\n",
       "      <td>2023</td>\n",
       "      <td>2</td>\n",
       "      <td>5</td>\n",
       "    </tr>\n",
       "    <tr>\n",
       "      <th>2</th>\n",
       "      <td>2023/02/03</td>\n",
       "      <td>13</td>\n",
       "      <td>2023/02/05</td>\n",
       "      <td>abacaxi</td>\n",
       "      <td>2023</td>\n",
       "      <td>2</td>\n",
       "      <td>5</td>\n",
       "    </tr>\n",
       "    <tr>\n",
       "      <th>3</th>\n",
       "      <td>2023/02/03</td>\n",
       "      <td>14</td>\n",
       "      <td>2023/02/05</td>\n",
       "      <td>maça</td>\n",
       "      <td>2023</td>\n",
       "      <td>2</td>\n",
       "      <td>5</td>\n",
       "    </tr>\n",
       "    <tr>\n",
       "      <th>4</th>\n",
       "      <td>2023/02/03</td>\n",
       "      <td>16</td>\n",
       "      <td>2023/02/05</td>\n",
       "      <td>abacaxi</td>\n",
       "      <td>2023</td>\n",
       "      <td>2</td>\n",
       "      <td>5</td>\n",
       "    </tr>\n",
       "    <tr>\n",
       "      <th>...</th>\n",
       "      <td>...</td>\n",
       "      <td>...</td>\n",
       "      <td>...</td>\n",
       "      <td>...</td>\n",
       "      <td>...</td>\n",
       "      <td>...</td>\n",
       "      <td>...</td>\n",
       "    </tr>\n",
       "    <tr>\n",
       "      <th>1155</th>\n",
       "      <td>2023/02/03</td>\n",
       "      <td>4994</td>\n",
       "      <td>2023/02/05</td>\n",
       "      <td>abacaxi</td>\n",
       "      <td>2023</td>\n",
       "      <td>2</td>\n",
       "      <td>5</td>\n",
       "    </tr>\n",
       "    <tr>\n",
       "      <th>1156</th>\n",
       "      <td>2023/02/03</td>\n",
       "      <td>4996</td>\n",
       "      <td>2023/02/05</td>\n",
       "      <td>maça</td>\n",
       "      <td>2023</td>\n",
       "      <td>2</td>\n",
       "      <td>5</td>\n",
       "    </tr>\n",
       "    <tr>\n",
       "      <th>1157</th>\n",
       "      <td>2023/02/03</td>\n",
       "      <td>4997</td>\n",
       "      <td>2023/02/05</td>\n",
       "      <td>banana</td>\n",
       "      <td>2023</td>\n",
       "      <td>2</td>\n",
       "      <td>5</td>\n",
       "    </tr>\n",
       "    <tr>\n",
       "      <th>1158</th>\n",
       "      <td>2023/02/03</td>\n",
       "      <td>4998</td>\n",
       "      <td>2023/02/05</td>\n",
       "      <td>morango</td>\n",
       "      <td>2023</td>\n",
       "      <td>2</td>\n",
       "      <td>5</td>\n",
       "    </tr>\n",
       "    <tr>\n",
       "      <th>1159</th>\n",
       "      <td>2023/02/03</td>\n",
       "      <td>4999</td>\n",
       "      <td>2023/02/05</td>\n",
       "      <td>banana</td>\n",
       "      <td>2023</td>\n",
       "      <td>2</td>\n",
       "      <td>5</td>\n",
       "    </tr>\n",
       "  </tbody>\n",
       "</table>\n",
       "<p>1160 rows × 7 columns</p>\n",
       "</div>"
      ],
      "text/plain": [
       "         created    id     updated    value  year  month  day\n",
       "0     2023/02/03     1  2023/02/05  morango  2023      2    5\n",
       "1     2023/02/03    10  2023/02/05     maça  2023      2    5\n",
       "2     2023/02/03    13  2023/02/05  abacaxi  2023      2    5\n",
       "3     2023/02/03    14  2023/02/05     maça  2023      2    5\n",
       "4     2023/02/03    16  2023/02/05  abacaxi  2023      2    5\n",
       "...          ...   ...         ...      ...   ...    ...  ...\n",
       "1155  2023/02/03  4994  2023/02/05  abacaxi  2023      2    5\n",
       "1156  2023/02/03  4996  2023/02/05     maça  2023      2    5\n",
       "1157  2023/02/03  4997  2023/02/05   banana  2023      2    5\n",
       "1158  2023/02/03  4998  2023/02/05  morango  2023      2    5\n",
       "1159  2023/02/03  4999  2023/02/05   banana  2023      2    5\n",
       "\n",
       "[1160 rows x 7 columns]"
      ]
     },
     "execution_count": 61,
     "metadata": {},
     "output_type": "execute_result"
    }
   ],
   "source": [
    "df_incremental.toPandas()"
   ]
  },
  {
   "cell_type": "code",
   "execution_count": null,
   "id": "5bb343f5-e5ae-4432-b957-52dbd9b246b6",
   "metadata": {},
   "outputs": [],
   "source": []
  }
 ],
 "metadata": {
  "kernelspec": {
   "display_name": "Python 3 (ipykernel)",
   "language": "python",
   "name": "python3"
  },
  "language_info": {
   "codemirror_mode": {
    "name": "ipython",
    "version": 3
   },
   "file_extension": ".py",
   "mimetype": "text/x-python",
   "name": "python",
   "nbconvert_exporter": "python",
   "pygments_lexer": "ipython3",
   "version": "3.10.8"
  }
 },
 "nbformat": 4,
 "nbformat_minor": 5
}
